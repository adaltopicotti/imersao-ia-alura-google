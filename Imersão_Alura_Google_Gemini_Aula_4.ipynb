{
  "nbformat": 4,
  "nbformat_minor": 0,
  "metadata": {
    "colab": {
      "provenance": [],
      "authorship_tag": "ABX9TyMnM8rikjQFLGm4NX4avKsV",
      "include_colab_link": true
    },
    "kernelspec": {
      "name": "python3",
      "display_name": "Python 3"
    },
    "language_info": {
      "name": "python"
    }
  },
  "cells": [
    {
      "cell_type": "markdown",
      "metadata": {
        "id": "view-in-github",
        "colab_type": "text"
      },
      "source": [
        "<a href=\"https://colab.research.google.com/github/adaltopicotti/imersao-ia-alura-google/blob/main/Imers%C3%A3o_Alura_Google_Gemini_Aula_4.ipynb\" target=\"_parent\"><img src=\"https://colab.research.google.com/assets/colab-badge.svg\" alt=\"Open In Colab\"/></a>"
      ]
    },
    {
      "cell_type": "code",
      "execution_count": 9,
      "metadata": {
        "id": "aCfW2yd-9Zm-"
      },
      "outputs": [],
      "source": [
        "!pip install -q -U google-generativeai"
      ]
    },
    {
      "cell_type": "code",
      "source": [
        "# Import the Python SDK\n",
        "import google.generativeai as genai\n",
        "from google.colab import userdata\n",
        "\n",
        "GOOGLE_API_KEY = userdata.get('GEMINI_API_KEY')\n",
        "genai.configure(api_key=GOOGLE_API_KEY)"
      ],
      "metadata": {
        "id": "srC1dUzn-D5f"
      },
      "execution_count": 6,
      "outputs": []
    },
    {
      "cell_type": "markdown",
      "source": [
        "Listar os modelos disponíveis"
      ],
      "metadata": {
        "id": "ICaN_EB0M9zI"
      }
    },
    {
      "cell_type": "code",
      "source": [
        "for m in genai.list_models():\n",
        "  if 'generateContent' in m.supported_generation_methods:\n",
        "    print(m.name)"
      ],
      "metadata": {
        "colab": {
          "base_uri": "https://localhost:8080/",
          "height": 142
        },
        "id": "3H79-uHqNQW2",
        "outputId": "7ec82d79-5175-47b6-f57e-397fd649e597"
      },
      "execution_count": 12,
      "outputs": [
        {
          "output_type": "stream",
          "name": "stdout",
          "text": [
            "models/gemini-1.0-pro\n",
            "models/gemini-1.0-pro-001\n",
            "models/gemini-1.0-pro-latest\n",
            "models/gemini-1.0-pro-vision-latest\n",
            "models/gemini-1.5-pro-latest\n",
            "models/gemini-pro\n",
            "models/gemini-pro-vision\n"
          ]
        }
      ]
    },
    {
      "cell_type": "code",
      "source": [
        "generation_config = {\n",
        "    \"candidate_count\": 1,\n",
        "    \"temperature\": 0.5,\n",
        "}"
      ],
      "metadata": {
        "id": "w67bGGcgPjKS"
      },
      "execution_count": 13,
      "outputs": []
    },
    {
      "cell_type": "code",
      "source": [
        "safety_settings = {\n",
        "    \"HARASSMENT\": \"BLOCK_NONE\",\n",
        "    \"HATE\": \"BLOCK_NONE\",\n",
        "    \"SEXUAL\": \"BLOCK_NONE\",\n",
        "    \"DANGEROUS\": \"BLOCK_NONE\",\n",
        "}"
      ],
      "metadata": {
        "id": "icKds3gtR-FV"
      },
      "execution_count": 15,
      "outputs": []
    },
    {
      "cell_type": "markdown",
      "source": [
        "Inicializando o modelo"
      ],
      "metadata": {
        "id": "79_P2cWSS-3T"
      }
    },
    {
      "cell_type": "code",
      "source": [
        "model = genai.GenerativeModel(\n",
        "    model_name=\"gemini-1.0-pro\",\n",
        "    generation_config=generation_config,\n",
        "    safety_settings=safety_settings,\n",
        ")"
      ],
      "metadata": {
        "id": "XKAD7RdvSgLg"
      },
      "execution_count": 16,
      "outputs": []
    },
    {
      "cell_type": "code",
      "source": [
        "response = model.generate_content(\"Vamos aprender conteúdo sobre IA. Me dê sugestões\")\n",
        "print(response.text)"
      ],
      "metadata": {
        "colab": {
          "base_uri": "https://localhost:8080/",
          "height": 892
        },
        "id": "wmoRBrzxTpSy",
        "outputId": "9968fb7e-8a94-4cf1-bf27-972133518b83"
      },
      "execution_count": 21,
      "outputs": [
        {
          "output_type": "stream",
          "name": "stdout",
          "text": [
            "**Conceitos Fundamentais**\n",
            "\n",
            "* O que é Inteligência Artificial (IA)\n",
            "* Tipos de IA (IA Fraca, IA Forte, IA Geral)\n",
            "* Aprendizado de Máquina (ML), Aprendizado Profundo (DL) e Redes Neurais (NNs)\n",
            "\n",
            "**Aplicações da IA**\n",
            "\n",
            "* Processamento de Linguagem Natural (PNL)\n",
            "* Visão Computacional\n",
            "* Robótica\n",
            "* Carros Autônomos\n",
            "* Cuidados de Saúde\n",
            "* Finanças\n",
            "\n",
            "**Ética e Implicações Sociais**\n",
            "\n",
            "* Viés na IA\n",
            "* Desemprego causado pela automação\n",
            "* Privacidade e vigilância\n",
            "* Uso indevido da IA\n",
            "\n",
            "**Técnicas de IA**\n",
            "\n",
            "* Algoritmos de Aprendizado Supervisionado e Não Supervisionado\n",
            "* Redes Neurais Convolucionais (CNNs)\n",
            "* Redes Neurais Recorrentes (RNNs)\n",
            "* Transformadores\n",
            "\n",
            "**Ferramentas e Bibliotecas**\n",
            "\n",
            "* TensorFlow\n",
            "* PyTorch\n",
            "* Keras\n",
            "* Scikit-learn\n",
            "* OpenCV\n",
            "\n",
            "**Recursos de Aprendizagem**\n",
            "\n",
            "* Cursos online (Coursera, edX, Udemy)\n",
            "* Livros (Inteligência Artificial: Uma Abordagem Moderna, Aprendizado de Máquina)\n",
            "* Tutoriais e blogs (Towards Data Science, MIT Technology Review)\n",
            "\n",
            "**Tendências e Avanços**\n",
            "\n",
            "* IA Quântica\n",
            "* Aprendizado por Reforço\n",
            "* Transferência de Aprendizado\n",
            "* IA Explicável\n"
          ]
        }
      ]
    },
    {
      "cell_type": "code",
      "source": [
        "chat = model.start_chat(history=[])"
      ],
      "metadata": {
        "id": "qQXMiZHqUHDP"
      },
      "execution_count": 22,
      "outputs": []
    },
    {
      "cell_type": "code",
      "source": [
        "prompt = input(\"Esperando prompt: \")\n",
        "\n",
        "while prompt != \"fim\":\n",
        "  response = chat.send_message(prompt)\n",
        "  print(\"Resposta: \",response.text, \"\\n\")\n",
        "  prompt = input(\"Esperando prompt: \")"
      ],
      "metadata": {
        "colab": {
          "base_uri": "https://localhost:8080/",
          "height": 1000
        },
        "id": "HIyBW3MuVVUE",
        "outputId": "704357ec-a6fe-45db-c84d-5bdcef696afa"
      },
      "execution_count": 23,
      "outputs": [
        {
          "name": "stdout",
          "output_type": "stream",
          "text": [
            "Esperando prompt: Olá\n",
            "Resposta:  Olá! Como posso ajudá-lo hoje? \n",
            "\n",
            "Esperando prompt: Me fale sobre Gion - JP\n",
            "Resposta:  **Gion** é um famoso distrito de gueixas em Kyoto, Japão. É conhecido por sua beleza tradicional, arquitetura histórica e cultura única.\n",
            "\n",
            "**Localização:**\n",
            "Gion está localizado na parte central de Kyoto, a leste do rio Kamo. É dividido em dois distritos principais: Gion Kobu e Gion Higashi.\n",
            "\n",
            "**História:**\n",
            "Gion remonta ao século XVII, quando era um distrito de entretenimento para viajantes e comerciantes. Com o tempo, tornou-se um centro para gueixas e outras artistas tradicionais.\n",
            "\n",
            "**Arquitetura:**\n",
            "Gion é conhecido por sua arquitetura tradicional japonesa. As ruas são estreitas e ladeadas por casas de madeira chamadas \"machiya\". Muitas dessas casas foram convertidas em restaurantes, lojas e casas de chá.\n",
            "\n",
            "**Cultura:**\n",
            "Gion é um centro de cultura tradicional japonesa. É o lar de muitas gueixas, que são artistas altamente treinadas em música, dança e etiqueta. O distrito também abriga vários teatros e casas de chá, onde os visitantes podem experimentar a cultura japonesa autêntica.\n",
            "\n",
            "**Gueixas:**\n",
            "As gueixas são um símbolo icônico de Gion. Elas são artistas profissionais que entretêm os clientes com música, dança e conversa. As gueixas são altamente respeitadas na sociedade japonesa e seu treinamento é rigoroso.\n",
            "\n",
            "**Atrações:**\n",
            "Além de suas gueixas e arquitetura, Gion também abriga várias atrações populares, incluindo:\n",
            "\n",
            "* **Templo Kennin-ji:** Um templo Zen conhecido por seu jardim de pedras e pinturas de dragão.\n",
            "* **Templo Yasaka:** Um templo xintoísta famoso por seu festival anual Gion Matsuri.\n",
            "* **Teatro Gion Corner:** Um teatro que apresenta apresentações tradicionais de gueixas.\n",
            "* **Museu Miyagawacho:** Um museu que exibe arte e artefatos relacionados à cultura das gueixas.\n",
            "\n",
            "**Como visitar:**\n",
            "Gion é um destino turístico popular e é melhor visitado durante a noite, quando as ruas são iluminadas por lanternas tradicionais. Os visitantes podem passear pelas ruas, visitar casas de chá e assistir a apresentações de gueixas. É importante respeitar a cultura e as tradições do distrito. \n",
            "\n",
            "Esperando prompt: Me fale sobre os acontecimentos históricos\n",
            "Resposta:  **Principais acontecimentos históricos:**\n",
            "\n",
            "* **Século XVII:** Gion é estabelecido como um distrito de entretenimento.\n",
            "* **Século XVIII:** Gion se torna um centro para gueixas e outras artistas tradicionais.\n",
            "* **1868:** A Restauração Meiji leva a mudanças sociais e culturais no Japão, incluindo o declínio da cultura das gueixas.\n",
            "* **Década de 1920:** Gion experimenta um renascimento da cultura das gueixas.\n",
            "* **Segunda Guerra Mundial:** Gion é bombardeado, mas a maioria de seus edifícios históricos sobrevive.\n",
            "* **Década de 1950:** Gion se torna um destino turístico popular.\n",
            "* **Década de 1970:** O governo japonês designa Gion como um distrito de preservação histórica.\n",
            "* **Década de 1990:** Gion enfrenta desafios econômicos devido à recessão e à concorrência de outras formas de entretenimento.\n",
            "* **Século XXI:** Gion continua a ser um centro de cultura tradicional japonesa e um destino turístico popular.\n",
            "\n",
            "**Outros acontecimentos históricos notáveis:**\n",
            "\n",
            "* **1664:** O Grande Incêndio de Kyoto destrói grande parte de Gion, mas o distrito é reconstruído logo depois.\n",
            "* **1872:** O governo japonês proíbe a prostituição, o que tem um impacto negativo na cultura das gueixas.\n",
            "* **1928:** O assassinato do político Inukai Tsuyoshi em Gion choca a nação.\n",
            "* **1945:** Gion é bombardeado durante a Segunda Guerra Mundial, mas a maioria de seus edifícios históricos sobrevive.\n",
            "* **1975:** Gion é designado como um distrito de preservação histórica pelo governo japonês.\n",
            "* **1997:** O Protocolo de Kyoto é assinado em Gion, comprometendo as nações a reduzir as emissões de gases de efeito estufa.\n",
            "\n",
            "Gion é um distrito histórico com uma rica história e cultura. Continua a ser um centro de cultura tradicional japonesa e um destino turístico popular até hoje. \n",
            "\n",
            "Esperando prompt: Liste os nomes históricos mais importantes de Gion\n",
            "Resposta:  **Nomes históricos mais importantes de Gion:**\n",
            "\n",
            "* **Ichiriki Chaya:** Uma casa de chá histórica que foi fundada em 1641 e é conhecida por suas apresentações de gueixas.\n",
            "* **Kennin-ji:** Um templo Zen fundado em 1202 e conhecido por seu jardim de pedras e pinturas de dragão.\n",
            "* **Gion Corner:** Um teatro que apresenta apresentações tradicionais de gueixas.\n",
            "* **Miyagawacho:** Um distrito dentro de Gion conhecido por suas casas de chá e gueixas.\n",
            "* **Pontocho:** Uma rua estreita e atmosférica ladeada por casas de chá e restaurantes tradicionais.\n",
            "* **Yasaka Shrine:** Um templo xintoísta famoso por seu festival anual Gion Matsuri.\n",
            "* **Teramachi Street:** Uma rua comercial que vende artigos tradicionais japoneses, como quimonos e cerâmica.\n",
            "* **Hanami-koji Street:** Uma rua estreita e pitoresca conhecida por suas casas de chá e gueixas.\n",
            "* **Shirakawa:** Um distrito histórico conhecido por seus canais e casas tradicionais de madeira.\n",
            "* **Ninen-zaka:** Uma rua íngreme que leva ao Templo Kiyomizu-dera e oferece vistas panorâmicas de Kyoto.\n",
            "\n",
            "Esses nomes históricos representam a rica cultura e história de Gion e continuam a atrair visitantes de todo o mundo. \n",
            "\n",
            "Esperando prompt: E Sakamoto Ryuma?\n",
            "Resposta:  **Sakamoto Ryōma** (1836-1867) foi um importante samurai, ativista político e líder do movimento para derrubar o xogunato Tokugawa e restaurar o poder imperial no Japão. Ele desempenhou um papel fundamental na Guerra Boshin, que levou ao fim do xogunato e ao estabelecimento da Restauração Meiji.\n",
            "\n",
            "Sakamoto Ryōma nasceu em uma família samurai de baixo escalão na província de Tosa (atual Prefeitura de Kochi). Ele era um espadachim habilidoso e um estrategista militar brilhante. Em sua juventude, ele viajou pelo Japão para aprender sobre diferentes estilos de esgrima e táticas militares.\n",
            "\n",
            "Em 1862, Sakamoto Ryōma fundou a **Katsura Kogoro**, uma organização política que defendia a aliança entre os domínios de Satsuma e Chōshū para derrubar o xogunato. Ele também desempenhou um papel fundamental na formação da **Aliança Satchō**, que uniu esses dois poderosos domínios contra o xogunato.\n",
            "\n",
            "Em 1867, Sakamoto Ryōma foi assassinado em um ataque noturno em Kyoto. Seu assassinato permanece um mistério até hoje, mas é amplamente atribuído a agentes do xogunato ou a rivais políticos.\n",
            "\n",
            "Sakamoto Ryōma é considerado um dos maiores heróis do Japão e sua estátua pode ser encontrada em muitos lugares do país, incluindo Gion. Ele é lembrado por seu papel fundamental na Restauração Meiji e por seu idealismo e compromisso com a modernização do Japão.\n",
            "\n",
            "**Conexão com Gion:**\n",
            "\n",
            "Embora Sakamoto Ryōma não tenha uma conexão direta com Gion, ele é uma figura histórica importante no período que levou à Restauração Meiji, que teve um profundo impacto na cultura e sociedade japonesas, incluindo Gion. \n",
            "\n",
            "Esperando prompt: fim\n"
          ]
        }
      ]
    },
    {
      "cell_type": "markdown",
      "source": [],
      "metadata": {
        "id": "uGh_yXf8MIKw"
      }
    },
    {
      "cell_type": "code",
      "source": [
        "chat"
      ],
      "metadata": {
        "colab": {
          "base_uri": "https://localhost:8080/"
        },
        "id": "vIA2TfOYYOkh",
        "outputId": "096a42b5-c408-4f2b-fb06-ae094a5be647"
      },
      "execution_count": 29,
      "outputs": [
        {
          "output_type": "execute_result",
          "data": {
            "text/plain": [
              "ChatSession(\n",
              "    model=genai.GenerativeModel(\n",
              "        model_name='models/gemini-1.0-pro',\n",
              "        generation_config={'candidate_count': 1, 'temperature': 0.5},\n",
              "        safety_settings={<HarmCategory.HARM_CATEGORY_HARASSMENT: 7>: <HarmBlockThreshold.BLOCK_NONE: 4>, <HarmCategory.HARM_CATEGORY_HATE_SPEECH: 8>: <HarmBlockThreshold.BLOCK_NONE: 4>, <HarmCategory.HARM_CATEGORY_SEXUALLY_EXPLICIT: 9>: <HarmBlockThreshold.BLOCK_NONE: 4>, <HarmCategory.HARM_CATEGORY_DANGEROUS_CONTENT: 10>: <HarmBlockThreshold.BLOCK_NONE: 4>},\n",
              "        tools=None,\n",
              "        system_instruction=None,\n",
              "    ),\n",
              "    history=[glm.Content({'parts': [{'text': 'Olá'}], 'role': 'user'}), glm.Content({'parts': [{'text': 'Olá! Como po...judá-lo hoje?'}], 'role': 'model'}), glm.Content({'parts': [{'text': 'Me fale sobre Gion - JP'}], 'role': 'user'}), glm.Content({'parts': [{'text': '**Gion** é u... do distrito.'}], 'role': 'model'}), glm.Content({'parts': [{'text': 'Me fale sobr...os históricos'}], 'role': 'user'}), glm.Content({'parts': [{'text': '**Principais...lar até hoje.'}], 'role': 'model'}), glm.Content({'parts': [{'text': 'Liste os nom...antes de Gion'}], 'role': 'user'}), glm.Content({'parts': [{'text': '**Nomes hist...todo o mundo.'}], 'role': 'model'}), glm.Content({'parts': [{'text': 'E Sakamoto Ryuma?'}], 'role': 'user'}), glm.Content({'parts': [{'text': '**Sakamoto R...cluindo Gion.'}], 'role': 'model'})]\n",
              ")"
            ]
          },
          "metadata": {},
          "execution_count": 29
        }
      ]
    },
    {
      "cell_type": "code",
      "source": [
        "chat.history"
      ],
      "metadata": {
        "colab": {
          "base_uri": "https://localhost:8080/"
        },
        "id": "rrg6L8wbYSQz",
        "outputId": "5c480223-2bef-4ffc-edea-449eabfd7abe"
      },
      "execution_count": 30,
      "outputs": [
        {
          "output_type": "execute_result",
          "data": {
            "text/plain": [
              "[parts {\n",
              "   text: \"Ol\\303\\241\"\n",
              " }\n",
              " role: \"user\",\n",
              " parts {\n",
              "   text: \"Ol\\303\\241! Como posso ajud\\303\\241-lo hoje?\"\n",
              " }\n",
              " role: \"model\",\n",
              " parts {\n",
              "   text: \"Me fale sobre Gion - JP\"\n",
              " }\n",
              " role: \"user\",\n",
              " parts {\n",
              "   text: \"**Gion** \\303\\251 um famoso distrito de gueixas em Kyoto, Jap\\303\\243o. \\303\\211 conhecido por sua beleza tradicional, arquitetura hist\\303\\263rica e cultura \\303\\272nica.\\n\\n**Localiza\\303\\247\\303\\243o:**\\nGion est\\303\\241 localizado na parte central de Kyoto, a leste do rio Kamo. \\303\\211 dividido em dois distritos principais: Gion Kobu e Gion Higashi.\\n\\n**Hist\\303\\263ria:**\\nGion remonta ao s\\303\\251culo XVII, quando era um distrito de entretenimento para viajantes e comerciantes. Com o tempo, tornou-se um centro para gueixas e outras artistas tradicionais.\\n\\n**Arquitetura:**\\nGion \\303\\251 conhecido por sua arquitetura tradicional japonesa. As ruas s\\303\\243o estreitas e ladeadas por casas de madeira chamadas \\\"machiya\\\". Muitas dessas casas foram convertidas em restaurantes, lojas e casas de ch\\303\\241.\\n\\n**Cultura:**\\nGion \\303\\251 um centro de cultura tradicional japonesa. \\303\\211 o lar de muitas gueixas, que s\\303\\243o artistas altamente treinadas em m\\303\\272sica, dan\\303\\247a e etiqueta. O distrito tamb\\303\\251m abriga v\\303\\241rios teatros e casas de ch\\303\\241, onde os visitantes podem experimentar a cultura japonesa aut\\303\\252ntica.\\n\\n**Gueixas:**\\nAs gueixas s\\303\\243o um s\\303\\255mbolo ic\\303\\264nico de Gion. Elas s\\303\\243o artistas profissionais que entret\\303\\252m os clientes com m\\303\\272sica, dan\\303\\247a e conversa. As gueixas s\\303\\243o altamente respeitadas na sociedade japonesa e seu treinamento \\303\\251 rigoroso.\\n\\n**Atra\\303\\247\\303\\265es:**\\nAl\\303\\251m de suas gueixas e arquitetura, Gion tamb\\303\\251m abriga v\\303\\241rias atra\\303\\247\\303\\265es populares, incluindo:\\n\\n* **Templo Kennin-ji:** Um templo Zen conhecido por seu jardim de pedras e pinturas de drag\\303\\243o.\\n* **Templo Yasaka:** Um templo xinto\\303\\255sta famoso por seu festival anual Gion Matsuri.\\n* **Teatro Gion Corner:** Um teatro que apresenta apresenta\\303\\247\\303\\265es tradicionais de gueixas.\\n* **Museu Miyagawacho:** Um museu que exibe arte e artefatos relacionados \\303\\240 cultura das gueixas.\\n\\n**Como visitar:**\\nGion \\303\\251 um destino tur\\303\\255stico popular e \\303\\251 melhor visitado durante a noite, quando as ruas s\\303\\243o iluminadas por lanternas tradicionais. Os visitantes podem passear pelas ruas, visitar casas de ch\\303\\241 e assistir a apresenta\\303\\247\\303\\265es de gueixas. \\303\\211 importante respeitar a cultura e as tradi\\303\\247\\303\\265es do distrito.\"\n",
              " }\n",
              " role: \"model\",\n",
              " parts {\n",
              "   text: \"Me fale sobre os acontecimentos hist\\303\\263ricos\"\n",
              " }\n",
              " role: \"user\",\n",
              " parts {\n",
              "   text: \"**Principais acontecimentos hist\\303\\263ricos:**\\n\\n* **S\\303\\251culo XVII:** Gion \\303\\251 estabelecido como um distrito de entretenimento.\\n* **S\\303\\251culo XVIII:** Gion se torna um centro para gueixas e outras artistas tradicionais.\\n* **1868:** A Restaura\\303\\247\\303\\243o Meiji leva a mudan\\303\\247as sociais e culturais no Jap\\303\\243o, incluindo o decl\\303\\255nio da cultura das gueixas.\\n* **D\\303\\251cada de 1920:** Gion experimenta um renascimento da cultura das gueixas.\\n* **Segunda Guerra Mundial:** Gion \\303\\251 bombardeado, mas a maioria de seus edif\\303\\255cios hist\\303\\263ricos sobrevive.\\n* **D\\303\\251cada de 1950:** Gion se torna um destino tur\\303\\255stico popular.\\n* **D\\303\\251cada de 1970:** O governo japon\\303\\252s designa Gion como um distrito de preserva\\303\\247\\303\\243o hist\\303\\263rica.\\n* **D\\303\\251cada de 1990:** Gion enfrenta desafios econ\\303\\264micos devido \\303\\240 recess\\303\\243o e \\303\\240 concorr\\303\\252ncia de outras formas de entretenimento.\\n* **S\\303\\251culo XXI:** Gion continua a ser um centro de cultura tradicional japonesa e um destino tur\\303\\255stico popular.\\n\\n**Outros acontecimentos hist\\303\\263ricos not\\303\\241veis:**\\n\\n* **1664:** O Grande Inc\\303\\252ndio de Kyoto destr\\303\\263i grande parte de Gion, mas o distrito \\303\\251 reconstru\\303\\255do logo depois.\\n* **1872:** O governo japon\\303\\252s pro\\303\\255be a prostitui\\303\\247\\303\\243o, o que tem um impacto negativo na cultura das gueixas.\\n* **1928:** O assassinato do pol\\303\\255tico Inukai Tsuyoshi em Gion choca a na\\303\\247\\303\\243o.\\n* **1945:** Gion \\303\\251 bombardeado durante a Segunda Guerra Mundial, mas a maioria de seus edif\\303\\255cios hist\\303\\263ricos sobrevive.\\n* **1975:** Gion \\303\\251 designado como um distrito de preserva\\303\\247\\303\\243o hist\\303\\263rica pelo governo japon\\303\\252s.\\n* **1997:** O Protocolo de Kyoto \\303\\251 assinado em Gion, comprometendo as na\\303\\247\\303\\265es a reduzir as emiss\\303\\265es de gases de efeito estufa.\\n\\nGion \\303\\251 um distrito hist\\303\\263rico com uma rica hist\\303\\263ria e cultura. Continua a ser um centro de cultura tradicional japonesa e um destino tur\\303\\255stico popular at\\303\\251 hoje.\"\n",
              " }\n",
              " role: \"model\",\n",
              " parts {\n",
              "   text: \"Liste os nomes hist\\303\\263ricos mais importantes de Gion\"\n",
              " }\n",
              " role: \"user\",\n",
              " parts {\n",
              "   text: \"**Nomes hist\\303\\263ricos mais importantes de Gion:**\\n\\n* **Ichiriki Chaya:** Uma casa de ch\\303\\241 hist\\303\\263rica que foi fundada em 1641 e \\303\\251 conhecida por suas apresenta\\303\\247\\303\\265es de gueixas.\\n* **Kennin-ji:** Um templo Zen fundado em 1202 e conhecido por seu jardim de pedras e pinturas de drag\\303\\243o.\\n* **Gion Corner:** Um teatro que apresenta apresenta\\303\\247\\303\\265es tradicionais de gueixas.\\n* **Miyagawacho:** Um distrito dentro de Gion conhecido por suas casas de ch\\303\\241 e gueixas.\\n* **Pontocho:** Uma rua estreita e atmosf\\303\\251rica ladeada por casas de ch\\303\\241 e restaurantes tradicionais.\\n* **Yasaka Shrine:** Um templo xinto\\303\\255sta famoso por seu festival anual Gion Matsuri.\\n* **Teramachi Street:** Uma rua comercial que vende artigos tradicionais japoneses, como quimonos e cer\\303\\242mica.\\n* **Hanami-koji Street:** Uma rua estreita e pitoresca conhecida por suas casas de ch\\303\\241 e gueixas.\\n* **Shirakawa:** Um distrito hist\\303\\263rico conhecido por seus canais e casas tradicionais de madeira.\\n* **Ninen-zaka:** Uma rua \\303\\255ngreme que leva ao Templo Kiyomizu-dera e oferece vistas panor\\303\\242micas de Kyoto.\\n\\nEsses nomes hist\\303\\263ricos representam a rica cultura e hist\\303\\263ria de Gion e continuam a atrair visitantes de todo o mundo.\"\n",
              " }\n",
              " role: \"model\",\n",
              " parts {\n",
              "   text: \"E Sakamoto Ryuma?\"\n",
              " }\n",
              " role: \"user\",\n",
              " parts {\n",
              "   text: \"**Sakamoto Ry\\305\\215ma** (1836-1867) foi um importante samurai, ativista pol\\303\\255tico e l\\303\\255der do movimento para derrubar o xogunato Tokugawa e restaurar o poder imperial no Jap\\303\\243o. Ele desempenhou um papel fundamental na Guerra Boshin, que levou ao fim do xogunato e ao estabelecimento da Restaura\\303\\247\\303\\243o Meiji.\\n\\nSakamoto Ry\\305\\215ma nasceu em uma fam\\303\\255lia samurai de baixo escal\\303\\243o na prov\\303\\255ncia de Tosa (atual Prefeitura de Kochi). Ele era um espadachim habilidoso e um estrategista militar brilhante. Em sua juventude, ele viajou pelo Jap\\303\\243o para aprender sobre diferentes estilos de esgrima e t\\303\\241ticas militares.\\n\\nEm 1862, Sakamoto Ry\\305\\215ma fundou a **Katsura Kogoro**, uma organiza\\303\\247\\303\\243o pol\\303\\255tica que defendia a alian\\303\\247a entre os dom\\303\\255nios de Satsuma e Ch\\305\\215sh\\305\\253 para derrubar o xogunato. Ele tamb\\303\\251m desempenhou um papel fundamental na forma\\303\\247\\303\\243o da **Alian\\303\\247a Satch\\305\\215**, que uniu esses dois poderosos dom\\303\\255nios contra o xogunato.\\n\\nEm 1867, Sakamoto Ry\\305\\215ma foi assassinado em um ataque noturno em Kyoto. Seu assassinato permanece um mist\\303\\251rio at\\303\\251 hoje, mas \\303\\251 amplamente atribu\\303\\255do a agentes do xogunato ou a rivais pol\\303\\255ticos.\\n\\nSakamoto Ry\\305\\215ma \\303\\251 considerado um dos maiores her\\303\\263is do Jap\\303\\243o e sua est\\303\\241tua pode ser encontrada em muitos lugares do pa\\303\\255s, incluindo Gion. Ele \\303\\251 lembrado por seu papel fundamental na Restaura\\303\\247\\303\\243o Meiji e por seu idealismo e compromisso com a moderniza\\303\\247\\303\\243o do Jap\\303\\243o.\\n\\n**Conex\\303\\243o com Gion:**\\n\\nEmbora Sakamoto Ry\\305\\215ma n\\303\\243o tenha uma conex\\303\\243o direta com Gion, ele \\303\\251 uma figura hist\\303\\263rica importante no per\\303\\255odo que levou \\303\\240 Restaura\\303\\247\\303\\243o Meiji, que teve um profundo impacto na cultura e sociedade japonesas, incluindo Gion.\"\n",
              " }\n",
              " role: \"model\"]"
            ]
          },
          "metadata": {},
          "execution_count": 30
        }
      ]
    },
    {
      "cell_type": "code",
      "source": [
        "# Melhorando a visualização\n",
        "# Código disponível em https://ai.google.dev/tutorials/python_quickstart#import_packages\n",
        "\n",
        "import pathlib\n",
        "import textwrap\n",
        "\n",
        "import google.generativeai as genai\n",
        "\n",
        "from IPython.display import display\n",
        "from IPython.display import Markdown\n",
        "\n",
        "\n",
        "def to_markdown(text):\n",
        "  text = text.replace('•', '  *')\n",
        "  return Markdown(textwrap.indent(text, '> ', predicate=lambda _: True))"
      ],
      "metadata": {
        "id": "0A2H7FqBXsV7"
      },
      "execution_count": 31,
      "outputs": []
    },
    {
      "cell_type": "code",
      "source": [
        "# Imprimindo histórico\n",
        "for message in chat.history:\n",
        "  display(to_markdown(f\"**{message.role}**: {message.parts[0].text}\"))"
      ],
      "metadata": {
        "colab": {
          "base_uri": "https://localhost:8080/",
          "height": 1000
        },
        "id": "_6__IIX4YLUw",
        "outputId": "c74a3728-1ecb-45b1-bcda-162b915fd3b7"
      },
      "execution_count": 34,
      "outputs": [
        {
          "output_type": "display_data",
          "data": {
            "text/plain": [
              "<IPython.core.display.Markdown object>"
            ],
            "text/markdown": "> **user**: Olá"
          },
          "metadata": {}
        },
        {
          "output_type": "display_data",
          "data": {
            "text/plain": [
              "<IPython.core.display.Markdown object>"
            ],
            "text/markdown": "> **model**: Olá! Como posso ajudá-lo hoje?"
          },
          "metadata": {}
        },
        {
          "output_type": "display_data",
          "data": {
            "text/plain": [
              "<IPython.core.display.Markdown object>"
            ],
            "text/markdown": "> **user**: Me fale sobre Gion - JP"
          },
          "metadata": {}
        },
        {
          "output_type": "display_data",
          "data": {
            "text/plain": [
              "<IPython.core.display.Markdown object>"
            ],
            "text/markdown": "> **model**: **Gion** é um famoso distrito de gueixas em Kyoto, Japão. É conhecido por sua beleza tradicional, arquitetura histórica e cultura única.\n> \n> **Localização:**\n> Gion está localizado na parte central de Kyoto, a leste do rio Kamo. É dividido em dois distritos principais: Gion Kobu e Gion Higashi.\n> \n> **História:**\n> Gion remonta ao século XVII, quando era um distrito de entretenimento para viajantes e comerciantes. Com o tempo, tornou-se um centro para gueixas e outras artistas tradicionais.\n> \n> **Arquitetura:**\n> Gion é conhecido por sua arquitetura tradicional japonesa. As ruas são estreitas e ladeadas por casas de madeira chamadas \"machiya\". Muitas dessas casas foram convertidas em restaurantes, lojas e casas de chá.\n> \n> **Cultura:**\n> Gion é um centro de cultura tradicional japonesa. É o lar de muitas gueixas, que são artistas altamente treinadas em música, dança e etiqueta. O distrito também abriga vários teatros e casas de chá, onde os visitantes podem experimentar a cultura japonesa autêntica.\n> \n> **Gueixas:**\n> As gueixas são um símbolo icônico de Gion. Elas são artistas profissionais que entretêm os clientes com música, dança e conversa. As gueixas são altamente respeitadas na sociedade japonesa e seu treinamento é rigoroso.\n> \n> **Atrações:**\n> Além de suas gueixas e arquitetura, Gion também abriga várias atrações populares, incluindo:\n> \n> * **Templo Kennin-ji:** Um templo Zen conhecido por seu jardim de pedras e pinturas de dragão.\n> * **Templo Yasaka:** Um templo xintoísta famoso por seu festival anual Gion Matsuri.\n> * **Teatro Gion Corner:** Um teatro que apresenta apresentações tradicionais de gueixas.\n> * **Museu Miyagawacho:** Um museu que exibe arte e artefatos relacionados à cultura das gueixas.\n> \n> **Como visitar:**\n> Gion é um destino turístico popular e é melhor visitado durante a noite, quando as ruas são iluminadas por lanternas tradicionais. Os visitantes podem passear pelas ruas, visitar casas de chá e assistir a apresentações de gueixas. É importante respeitar a cultura e as tradições do distrito."
          },
          "metadata": {}
        },
        {
          "output_type": "display_data",
          "data": {
            "text/plain": [
              "<IPython.core.display.Markdown object>"
            ],
            "text/markdown": "> **user**: Me fale sobre os acontecimentos históricos"
          },
          "metadata": {}
        },
        {
          "output_type": "display_data",
          "data": {
            "text/plain": [
              "<IPython.core.display.Markdown object>"
            ],
            "text/markdown": "> **model**: **Principais acontecimentos históricos:**\n> \n> * **Século XVII:** Gion é estabelecido como um distrito de entretenimento.\n> * **Século XVIII:** Gion se torna um centro para gueixas e outras artistas tradicionais.\n> * **1868:** A Restauração Meiji leva a mudanças sociais e culturais no Japão, incluindo o declínio da cultura das gueixas.\n> * **Década de 1920:** Gion experimenta um renascimento da cultura das gueixas.\n> * **Segunda Guerra Mundial:** Gion é bombardeado, mas a maioria de seus edifícios históricos sobrevive.\n> * **Década de 1950:** Gion se torna um destino turístico popular.\n> * **Década de 1970:** O governo japonês designa Gion como um distrito de preservação histórica.\n> * **Década de 1990:** Gion enfrenta desafios econômicos devido à recessão e à concorrência de outras formas de entretenimento.\n> * **Século XXI:** Gion continua a ser um centro de cultura tradicional japonesa e um destino turístico popular.\n> \n> **Outros acontecimentos históricos notáveis:**\n> \n> * **1664:** O Grande Incêndio de Kyoto destrói grande parte de Gion, mas o distrito é reconstruído logo depois.\n> * **1872:** O governo japonês proíbe a prostituição, o que tem um impacto negativo na cultura das gueixas.\n> * **1928:** O assassinato do político Inukai Tsuyoshi em Gion choca a nação.\n> * **1945:** Gion é bombardeado durante a Segunda Guerra Mundial, mas a maioria de seus edifícios históricos sobrevive.\n> * **1975:** Gion é designado como um distrito de preservação histórica pelo governo japonês.\n> * **1997:** O Protocolo de Kyoto é assinado em Gion, comprometendo as nações a reduzir as emissões de gases de efeito estufa.\n> \n> Gion é um distrito histórico com uma rica história e cultura. Continua a ser um centro de cultura tradicional japonesa e um destino turístico popular até hoje."
          },
          "metadata": {}
        },
        {
          "output_type": "display_data",
          "data": {
            "text/plain": [
              "<IPython.core.display.Markdown object>"
            ],
            "text/markdown": "> **user**: Liste os nomes históricos mais importantes de Gion"
          },
          "metadata": {}
        },
        {
          "output_type": "display_data",
          "data": {
            "text/plain": [
              "<IPython.core.display.Markdown object>"
            ],
            "text/markdown": "> **model**: **Nomes históricos mais importantes de Gion:**\n> \n> * **Ichiriki Chaya:** Uma casa de chá histórica que foi fundada em 1641 e é conhecida por suas apresentações de gueixas.\n> * **Kennin-ji:** Um templo Zen fundado em 1202 e conhecido por seu jardim de pedras e pinturas de dragão.\n> * **Gion Corner:** Um teatro que apresenta apresentações tradicionais de gueixas.\n> * **Miyagawacho:** Um distrito dentro de Gion conhecido por suas casas de chá e gueixas.\n> * **Pontocho:** Uma rua estreita e atmosférica ladeada por casas de chá e restaurantes tradicionais.\n> * **Yasaka Shrine:** Um templo xintoísta famoso por seu festival anual Gion Matsuri.\n> * **Teramachi Street:** Uma rua comercial que vende artigos tradicionais japoneses, como quimonos e cerâmica.\n> * **Hanami-koji Street:** Uma rua estreita e pitoresca conhecida por suas casas de chá e gueixas.\n> * **Shirakawa:** Um distrito histórico conhecido por seus canais e casas tradicionais de madeira.\n> * **Ninen-zaka:** Uma rua íngreme que leva ao Templo Kiyomizu-dera e oferece vistas panorâmicas de Kyoto.\n> \n> Esses nomes históricos representam a rica cultura e história de Gion e continuam a atrair visitantes de todo o mundo."
          },
          "metadata": {}
        },
        {
          "output_type": "display_data",
          "data": {
            "text/plain": [
              "<IPython.core.display.Markdown object>"
            ],
            "text/markdown": "> **user**: E Sakamoto Ryuma?"
          },
          "metadata": {}
        },
        {
          "output_type": "display_data",
          "data": {
            "text/plain": [
              "<IPython.core.display.Markdown object>"
            ],
            "text/markdown": "> **model**: **Sakamoto Ryōma** (1836-1867) foi um importante samurai, ativista político e líder do movimento para derrubar o xogunato Tokugawa e restaurar o poder imperial no Japão. Ele desempenhou um papel fundamental na Guerra Boshin, que levou ao fim do xogunato e ao estabelecimento da Restauração Meiji.\n> \n> Sakamoto Ryōma nasceu em uma família samurai de baixo escalão na província de Tosa (atual Prefeitura de Kochi). Ele era um espadachim habilidoso e um estrategista militar brilhante. Em sua juventude, ele viajou pelo Japão para aprender sobre diferentes estilos de esgrima e táticas militares.\n> \n> Em 1862, Sakamoto Ryōma fundou a **Katsura Kogoro**, uma organização política que defendia a aliança entre os domínios de Satsuma e Chōshū para derrubar o xogunato. Ele também desempenhou um papel fundamental na formação da **Aliança Satchō**, que uniu esses dois poderosos domínios contra o xogunato.\n> \n> Em 1867, Sakamoto Ryōma foi assassinado em um ataque noturno em Kyoto. Seu assassinato permanece um mistério até hoje, mas é amplamente atribuído a agentes do xogunato ou a rivais políticos.\n> \n> Sakamoto Ryōma é considerado um dos maiores heróis do Japão e sua estátua pode ser encontrada em muitos lugares do país, incluindo Gion. Ele é lembrado por seu papel fundamental na Restauração Meiji e por seu idealismo e compromisso com a modernização do Japão.\n> \n> **Conexão com Gion:**\n> \n> Embora Sakamoto Ryōma não tenha uma conexão direta com Gion, ele é uma figura histórica importante no período que levou à Restauração Meiji, que teve um profundo impacto na cultura e sociedade japonesas, incluindo Gion."
          },
          "metadata": {}
        }
      ]
    },
    {
      "cell_type": "code",
      "source": [],
      "metadata": {
        "id": "e4LcARcTZpRx"
      },
      "execution_count": null,
      "outputs": []
    }
  ]
}